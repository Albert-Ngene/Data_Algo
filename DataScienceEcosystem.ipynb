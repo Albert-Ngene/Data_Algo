{
  "metadata": {
    "kernelspec": {
      "name": "python",
      "display_name": "Python (Pyodide)",
      "language": "python"
    },
    "language_info": {
      "codemirror_mode": {
        "name": "python",
        "version": 3
      },
      "file_extension": ".py",
      "mimetype": "text/x-python",
      "name": "python",
      "nbconvert_exporter": "python",
      "pygments_lexer": "ipython3",
      "version": "3.8"
    }
  },
  "nbformat_minor": 5,
  "nbformat": 4,
  "cells": [
    {
      "id": "a6387892-18af-44e0-9d05-7f7379bc727a",
      "cell_type": "markdown",
      "source": "# Data Science Tools and Ecosysytem",
      "metadata": {}
    },
    {
      "id": "8e2d8aea-12ff-44de-97d9-80cae3218f0c",
      "cell_type": "markdown",
      "source": "In this notebook, Data Science Tools and Ecosystem are summarized",
      "metadata": {}
    },
    {
      "id": "ab82a30a-eafe-4b1d-ada9-d2a57961f610",
      "cell_type": "markdown",
      "source": "**Objectives:**\n* Popular Languages\n* Commom libraries used by Data Scientist\n* Data Science Tools\n* Arithmetic Operations",
      "metadata": {}
    },
    {
      "id": "d5c81825-75fb-4fed-b5a9-186b37d2b7a9",
      "cell_type": "markdown",
      "source": "Some of the popular languages that Data Scientist use are:\n1. Python\n2. R\n3. Julia\n4. SQL",
      "metadata": {}
    },
    {
      "id": "d37e5174-bf97-4824-8e43-533025dad826",
      "cell_type": "markdown",
      "source": "Some of the commonly used libraries used by Data Scientists include:\n1. PANDAS\n2. NUMPY\n3. MATPLOTLIB\n4. SEABORN\n5. SCIKIT-LEARN\n6. KERAS",
      "metadata": {}
    },
    {
      "id": "93d33bb1-de52-4b79-a092-bf3e13bec8b7",
      "cell_type": "markdown",
      "source": "| Data Science Tools |\n|--------------------|\n| JupyterLab |\n| RStudio |\n| Spyder |",
      "metadata": {}
    },
    {
      "id": "c126738d-1326-48bf-9476-a7ddacd2275a",
      "cell_type": "markdown",
      "source": "### Below are a few examples of evaluating arithmetic expression in Python",
      "metadata": {}
    },
    {
      "id": "f7fd0282-884e-4d3e-9509-aae62a87db9d",
      "cell_type": "code",
      "source": "# This a simple arithemetic expression to multiply then add integers\n(3*4) + 5",
      "metadata": {
        "trusted": true
      },
      "outputs": [
        {
          "execution_count": 2,
          "output_type": "execute_result",
          "data": {
            "text/plain": "17"
          },
          "metadata": {}
        }
      ],
      "execution_count": 2
    },
    {
      "id": "ba833464-81a2-4cd5-9811-fe14404693d9",
      "cell_type": "code",
      "source": "# This will convert 200 minutes to hours by dividing by 60\n200 / 60",
      "metadata": {
        "trusted": true
      },
      "outputs": [
        {
          "execution_count": 3,
          "output_type": "execute_result",
          "data": {
            "text/plain": "3.3333333333333335"
          },
          "metadata": {}
        }
      ],
      "execution_count": 3
    },
    {
      "id": "f299057c-c3f4-474d-a239-2d1a2844e0a3",
      "cell_type": "markdown",
      "source": "## Author \nNgene Elijah Tochukwu",
      "metadata": {}
    },
    {
      "id": "0ce23fa0-de76-4a28-b7d8-c9107d120d3e",
      "cell_type": "code",
      "source": "",
      "metadata": {
        "trusted": true
      },
      "outputs": [],
      "execution_count": null
    }
  ]
}